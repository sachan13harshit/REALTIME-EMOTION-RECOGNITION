{
 "cells": [
  {
   "cell_type": "code",
   "execution_count": null,
   "id": "31091515-65b8-4770-a4b7-2f1ccfec9889",
   "metadata": {},
   "outputs": [],
   "source": [
    "from keras.models import load_model\n",
    "from keras.optimizers import Adam\n",
    "from keras.preprocessing.image import img_to_array\n",
    "import cv2\n",
    "import numpy as np"
   ]
  },
  {
   "cell_type": "code",
   "execution_count": null,
   "id": "48bd7465-b51f-492b-bd19-6582e2de1a03",
   "metadata": {},
   "outputs": [],
   "source": [
    "face_classifier = cv2.CascadeClassifier(r'/Users/harshit/Desktop/Project/haarcascade_frontalface_default.xml')\n",
    "classifier =load_model(r'/Users/harshit/Desktop/Project/emotiondetector_model.h5')\n",
    "\n",
    "emotion_labels = ['angry','disgust','fear','happy','neutral','sad','surprise']\n",
    "\n",
    "cap = cv2.VideoCapture(0)"
   ]
  },
  {
   "cell_type": "code",
   "execution_count": null,
   "id": "11bb6dca-43e2-4ac2-b3fe-abbcd390c31c",
   "metadata": {},
   "outputs": [],
   "source": [
    "frame_count = 0\n",
    "while True:\n",
    "    ret, frame = cap.read()\n",
    "    if not ret:\n",
    "        break\n",
    "\n",
    "    if frame_count % 1 == 0:  # Process every 5th frame\n",
    "        gray = cv2.cvtColor(frame, cv2.COLOR_BGR2GRAY)\n",
    "        faces = face_classifier.detectMultiScale(gray)\n",
    "\n",
    "        for (x, y, w, h) in faces:\n",
    "            cv2.rectangle(frame, (x, y), (x+w, y+h), (0, 255, 255), 2)\n",
    "            roi_gray = gray[y:y+h, x:x+w]\n",
    "            roi_gray = cv2.resize(roi_gray, (48, 48), interpolation=cv2.INTER_AREA)\n",
    "\n",
    "            if np.sum([roi_gray]) != 0:\n",
    "                roi = roi_gray.astype('float') / 255.0\n",
    "                roi = img_to_array(roi)\n",
    "                roi = np.expand_dims(roi, axis=0)\n",
    "\n",
    "                prediction = classifier.predict(roi)\n",
    "                label = emotion_labels[prediction.argmax()]\n",
    "                label_position = (x, y)\n",
    "                cv2.putText(frame, label, label_position, cv2.FONT_HERSHEY_SIMPLEX, 1, (0, 255, 0), 2)\n",
    "            else:\n",
    "                cv2.putText(frame, 'No Faces', (30, 80), cv2.FONT_HERSHEY_SIMPLEX, 1, (0, 255, 0), 2)\n",
    "    \n",
    "    cv2.imshow('Emotion Detector', frame)\n",
    "    if cv2.waitKey(1) & 0xFF == ord('q'):\n",
    "        exit()\n",
    "        break\n",
    "\n",
    "    frame_count += 1\n"
   ]
  },
  {
   "cell_type": "code",
   "execution_count": null,
   "id": "f7051084-e9e5-448a-8fac-74fe20f21997",
   "metadata": {},
   "outputs": [],
   "source": []
  },
  {
   "cell_type": "code",
   "execution_count": null,
   "id": "74885242-0e6a-4a72-a452-159d2a9ec225",
   "metadata": {},
   "outputs": [],
   "source": []
  }
 ],
 "metadata": {
  "kernelspec": {
   "display_name": "Python 3 (ipykernel)",
   "language": "python",
   "name": "python3"
  },
  "language_info": {
   "codemirror_mode": {
    "name": "ipython",
    "version": 3
   },
   "file_extension": ".py",
   "mimetype": "text/x-python",
   "name": "python",
   "nbconvert_exporter": "python",
   "pygments_lexer": "ipython3",
   "version": "3.12.4"
  }
 },
 "nbformat": 4,
 "nbformat_minor": 5
}
